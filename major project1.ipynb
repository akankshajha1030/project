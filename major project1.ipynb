{
 "cells": [
  {
   "cell_type": "code",
   "execution_count": 1,
   "id": "583fe982-9962-4be5-ab56-db894beadd3c",
   "metadata": {},
   "outputs": [],
   "source": [
    "import sqlite3\n",
    "\n",
    "# Database connection\n",
    "conn = sqlite3.connect(\"atm.db\")\n",
    "cur = conn.cursor()\n",
    "\n",
    "# Table create (run once)\n",
    "cur.execute('''\n",
    "CREATE TABLE IF NOT EXISTS accounts (\n",
    "    acc_no INTEGER PRIMARY KEY AUTOINCREMENT,\n",
    "    name TEXT,\n",
    "    pin TEXT,\n",
    "    balance REAL\n",
    ")\n",
    "''')\n",
    "conn.commit()"
   ]
  },
  {
   "cell_type": "code",
   "execution_count": 2,
   "id": "dcb033ab-9dd3-4eb6-b69c-424364f41245",
   "metadata": {},
   "outputs": [],
   "source": [
    "def create_account(name, pin, balance):\n",
    "    cur.execute(\"INSERT INTO accounts (name, pin, balance) VALUES (?, ?, ?)\", (name, pin, balance))\n",
    "    conn.commit()\n",
    "    print(\" Account created successfully!\")"
   ]
  },
  {
   "cell_type": "code",
   "execution_count": 3,
   "id": "e5ff3598-aa10-45e0-a1d0-487187baff75",
   "metadata": {},
   "outputs": [],
   "source": [
    "def login(acc_no, pin):\n",
    "    cur.execute(\"SELECT * FROM accounts WHERE acc_no=? AND pin=?\", (acc_no, pin))\n",
    "    user = cur.fetchone()\n",
    "    if user:\n",
    "        print(f\" Welcome {user[1]}!\")\n",
    "        return user\n",
    "    else:\n",
    "        print(\" Invalid account number or PIN.\")\n",
    "        return None"
   ]
  },
  {
   "cell_type": "code",
   "execution_count": 4,
   "id": "2a54444f-ed79-4084-9d83-89bda4afce44",
   "metadata": {},
   "outputs": [],
   "source": [
    "def check_balance(acc_no):\n",
    "    cur.execute(\"SELECT balance FROM accounts WHERE acc_no=?\", (acc_no,))\n",
    "    balance = cur.fetchone()[0]\n",
    "    print(f\"Current Balance: ₹{balance}\")\n"
   ]
  },
  {
   "cell_type": "code",
   "execution_count": 5,
   "id": "7ec048db-a1e3-4036-a3f9-69c0588fae4d",
   "metadata": {},
   "outputs": [],
   "source": [
    "def deposit(acc_no, amount):\n",
    "    cur.execute(\"UPDATE accounts SET balance = balance + ? WHERE acc_no=?\", (amount, acc_no))\n",
    "    conn.commit()\n",
    "    print(f\" ₹{amount} deposited successfully.\")\n"
   ]
  },
  {
   "cell_type": "code",
   "execution_count": 6,
   "id": "97663f28-9cb1-4490-ac79-a026e337c9fd",
   "metadata": {},
   "outputs": [],
   "source": [
    "def withdraw(acc_no, amount):\n",
    "    cur.execute(\"SELECT balance FROM accounts WHERE acc_no=?\", (acc_no,))\n",
    "    current_balance = cur.fetchone()[0]\n",
    "\n",
    "    if amount > current_balance:\n",
    "        print(\" Insufficient balance!\")\n",
    "    else:\n",
    "        cur.execute(\"UPDATE accounts SET balance = balance - ? WHERE acc_no=?\", (amount, acc_no))\n",
    "        conn.commit()\n",
    "        print(f\" ₹{amount} withdrawn successfully.\")"
   ]
  },
  {
   "cell_type": "code",
   "execution_count": 7,
   "id": "fc0782af-a031-4939-a98a-5e2b209bab85",
   "metadata": {},
   "outputs": [],
   "source": [
    "def atm_menu():\n",
    "    print(\"===== Welcome to Python ATM =====\")\n",
    "    acc_no = int(input(\"Enter Account Number: \"))\n",
    "    pin = input(\"Enter PIN: \")\n",
    "\n",
    "    user = login(acc_no, pin)\n",
    "    if not user:\n",
    "        return\n",
    "\n",
    "    while True:\n",
    "        print(\"\\n--- Menu ---\")\n",
    "        print(\"1. Check Balance\")\n",
    "        print(\"2. Deposit\")\n",
    "        print(\"3. Withdraw\")\n",
    "        print(\"4. Exit\")\n",
    "        choice = input(\"Enter your choice: \")\n",
    "\n",
    "        if choice == '1':\n",
    "            check_balance(acc_no)\n",
    "        elif choice == '2':\n",
    "            amt = float(input(\"Enter amount to deposit: ₹\"))\n",
    "            deposit(acc_no, amt)\n",
    "        elif choice == '3':\n",
    "            amt = float(input(\"Enter amount to withdraw: ₹\"))\n",
    "            withdraw(acc_no, amt)\n",
    "        elif choice == '4':\n",
    "            print(\" Thank you for using the ATM. Bye!\")\n",
    "            break\n",
    "        else:\n",
    "            print(\"Invalid choice.\")\n"
   ]
  },
  {
   "cell_type": "code",
   "execution_count": 8,
   "id": "55f2999d-a42d-4512-99ba-be1c3c09d27a",
   "metadata": {},
   "outputs": [
    {
     "name": "stdout",
     "output_type": "stream",
     "text": [
      "===== Welcome to Python ATM =====\n"
     ]
    },
    {
     "name": "stdin",
     "output_type": "stream",
     "text": [
      "Enter Account Number:  456123\n",
      "Enter PIN:  4561\n"
     ]
    },
    {
     "name": "stdout",
     "output_type": "stream",
     "text": [
      " Invalid account number or PIN.\n"
     ]
    }
   ],
   "source": [
    "atm_menu()\n",
    "conn.close()\n"
   ]
  },
  {
   "cell_type": "code",
   "execution_count": null,
   "id": "e29d1252-4ef7-4868-8472-81b2481341b1",
   "metadata": {},
   "outputs": [],
   "source": []
  }
 ],
 "metadata": {
  "kernelspec": {
   "display_name": "Python 3 (ipykernel)",
   "language": "python",
   "name": "python3"
  },
  "language_info": {
   "codemirror_mode": {
    "name": "ipython",
    "version": 3
   },
   "file_extension": ".py",
   "mimetype": "text/x-python",
   "name": "python",
   "nbconvert_exporter": "python",
   "pygments_lexer": "ipython3",
   "version": "3.13.5"
  }
 },
 "nbformat": 4,
 "nbformat_minor": 5
}
