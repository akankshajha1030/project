{
 "cells": [
  {
   "cell_type": "code",
   "execution_count": 3,
   "id": "b71f86e0-fd3b-438b-9e82-005dad3f3862",
   "metadata": {},
   "outputs": [
    {
     "name": "stdout",
     "output_type": "stream",
     "text": [
      "\n",
      "📚 ==== Library Menu ====\n",
      "1. Add Book\n",
      "2. View All Books\n",
      "3. Issue Book\n",
      "4. Return Book\n",
      "5. Delete Book\n",
      "6. Exit\n"
     ]
    },
    {
     "name": "stdin",
     "output_type": "stream",
     "text": [
      "Enter choice (1-6):  4\n",
      "Enter Book ID to return:  650\n",
      "Enter user name:  akjdkshj\n"
     ]
    },
    {
     "name": "stdout",
     "output_type": "stream",
     "text": [
      "📘 Book returned successfully!\n",
      "\n",
      "📚 ==== Library Menu ====\n",
      "1. Add Book\n",
      "2. View All Books\n",
      "3. Issue Book\n",
      "4. Return Book\n",
      "5. Delete Book\n",
      "6. Exit\n"
     ]
    },
    {
     "name": "stdin",
     "output_type": "stream",
     "text": [
      "Enter choice (1-6):  5\n",
      "Enter Book ID to delete:  7588\n"
     ]
    },
    {
     "name": "stdout",
     "output_type": "stream",
     "text": [
      "🗑️ Book deleted.\n",
      "\n",
      "📚 ==== Library Menu ====\n",
      "1. Add Book\n",
      "2. View All Books\n",
      "3. Issue Book\n",
      "4. Return Book\n",
      "5. Delete Book\n",
      "6. Exit\n"
     ]
    },
    {
     "name": "stdin",
     "output_type": "stream",
     "text": [
      "Enter choice (1-6):  6\n"
     ]
    },
    {
     "name": "stdout",
     "output_type": "stream",
     "text": [
      "👋 Exiting Library System. Goodbye!\n"
     ]
    }
   ],
   "source": [
    "import sqlite3\n",
    "from datetime import datetime\n",
    "\n",
    "# Step 1: Create/connect DB\n",
    "conn = sqlite3.connect(\"library.db\")\n",
    "cur = conn.cursor()\n",
    "\n",
    "# Step 2: Create tables\n",
    "cur.execute('''CREATE TABLE IF NOT EXISTS books (\n",
    "    id INTEGER PRIMARY KEY AUTOINCREMENT,\n",
    "    title TEXT,\n",
    "    author TEXT,\n",
    "    quantity INTEGER\n",
    ")''')\n",
    "\n",
    "cur.execute('''CREATE TABLE IF NOT EXISTS transactions (\n",
    "    id INTEGER PRIMARY KEY AUTOINCREMENT,\n",
    "    book_id INTEGER,\n",
    "    user TEXT,\n",
    "    action TEXT,\n",
    "    date TEXT\n",
    ")''')\n",
    "\n",
    "conn.commit()\n",
    "\n",
    "# Step 3: Functions\n",
    "\n",
    "def add_book(title, author, quantity):\n",
    "    cur.execute(\"INSERT INTO books (title, author, quantity) VALUES (?, ?, ?)\", (title, author, quantity))\n",
    "    conn.commit()\n",
    "    print(\"✅ Book added successfully!\")\n",
    "\n",
    "def view_books():\n",
    "    cur.execute(\"SELECT * FROM books\")\n",
    "    books = cur.fetchall()\n",
    "    for book in books:\n",
    "        print(f\"📗 ID: {book[0]}, Title: {book[1]}, Author: {book[2]}, Quantity: {book[3]}\")\n",
    "    if not books:\n",
    "        print(\"📭 No books found.\")\n",
    "\n",
    "def issue_book(book_id, user):\n",
    "    cur.execute(\"SELECT quantity FROM books WHERE id = ?\", (book_id,))\n",
    "    result = cur.fetchone()\n",
    "    if result and result[0] > 0:\n",
    "        cur.execute(\"UPDATE books SET quantity = quantity - 1 WHERE id = ?\", (book_id,))\n",
    "        cur.execute(\"INSERT INTO transactions (book_id, user, action, date) VALUES (?, ?, 'ISSUED', ?)\", \n",
    "                    (book_id, user, datetime.now().strftime(\"%Y-%m-%d %H:%M:%S\")))\n",
    "        conn.commit()\n",
    "        print(\"📕 Book issued successfully!\")\n",
    "    else:\n",
    "        print(\"❌ Book not available or invalid ID.\")\n",
    "\n",
    "def return_book(book_id, user):\n",
    "    cur.execute(\"UPDATE books SET quantity = quantity + 1 WHERE id = ?\", (book_id,))\n",
    "    cur.execute(\"INSERT INTO transactions (book_id, user, action, date) VALUES (?, ?, 'RETURNED', ?)\", \n",
    "                (book_id, user, datetime.now().strftime(\"%Y-%m-%d %H:%M:%S\")))\n",
    "    conn.commit()\n",
    "    print(\"📘 Book returned successfully!\")\n",
    "\n",
    "def delete_book(book_id):\n",
    "    cur.execute(\"DELETE FROM books WHERE id = ?\", (book_id,))\n",
    "    conn.commit()\n",
    "    print(\"🗑️ Book deleted.\")\n",
    "\n",
    "# Step 4: Main Menu\n",
    "def main_menu():\n",
    "    while True:\n",
    "        print(\"\\n📚 ==== Library Menu ====\")\n",
    "        print(\"1. Add Book\")\n",
    "        print(\"2. View All Books\")\n",
    "        print(\"3. Issue Book\")\n",
    "        print(\"4. Return Book\")\n",
    "        print(\"5. Delete Book\")\n",
    "        print(\"6. Exit\")\n",
    "\n",
    "        choice = input(\"Enter choice (1-6): \")\n",
    "\n",
    "        if choice == '1':\n",
    "            title = input(\"Enter book title: \")\n",
    "            author = input(\"Enter author name: \")\n",
    "            qty = int(input(\"Enter quantity: \"))\n",
    "            add_book(title, author, qty)\n",
    "\n",
    "        elif choice == '2':\n",
    "            view_books()\n",
    "\n",
    "        elif choice == '3':\n",
    "            book_id = int(input(\"Enter Book ID to issue: \"))\n",
    "            user = input(\"Enter user name: \")\n",
    "            issue_book(book_id, user)\n",
    "\n",
    "        elif choice == '4':\n",
    "            book_id = int(input(\"Enter Book ID to return: \"))\n",
    "            user = input(\"Enter user name: \")\n",
    "            return_book(book_id, user)\n",
    "\n",
    "        elif choice == '5':\n",
    "            book_id = int(input(\"Enter Book ID to delete: \"))\n",
    "            delete_book(book_id)\n",
    "\n",
    "        elif choice == '6':\n",
    "            print(\"👋 Exiting Library System. Goodbye!\")\n",
    "            break\n",
    "\n",
    "        else:\n",
    "            print(\"❌ Invalid choice. Try again.\")\n",
    "\n",
    "# Start the app\n",
    "main_menu()"
   ]
  },
  {
   "cell_type": "code",
   "execution_count": null,
   "id": "537a134a-19d3-480d-98db-56bd2b35c69d",
   "metadata": {},
   "outputs": [],
   "source": []
  }
 ],
 "metadata": {
  "kernelspec": {
   "display_name": "Python 3 (ipykernel)",
   "language": "python",
   "name": "python3"
  },
  "language_info": {
   "codemirror_mode": {
    "name": "ipython",
    "version": 3
   },
   "file_extension": ".py",
   "mimetype": "text/x-python",
   "name": "python",
   "nbconvert_exporter": "python",
   "pygments_lexer": "ipython3",
   "version": "3.13.5"
  }
 },
 "nbformat": 4,
 "nbformat_minor": 5
}
